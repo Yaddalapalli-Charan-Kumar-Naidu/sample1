{
 "cells": [
  {
   "cell_type": "markdown",
   "id": "bc4159b6",
   "metadata": {},
   "source": [
    "Tools for Data Science"
   ]
  },
  {
   "cell_type": "markdown",
   "id": "5233e1bb",
   "metadata": {},
   "source": [
    "this file contains markdown related to introduction of the notebook"
   ]
  },
  {
   "cell_type": "markdown",
   "id": "99d1e57c",
   "metadata": {},
   "source": [
    "## Data science languages:\n",
    "- Python\n",
    "- R\n",
    "- julia"
   ]
  },
  {
   "cell_type": "markdown",
   "id": "34483acf",
   "metadata": {},
   "source": [
    "## Data Science Libraries\n",
    "- NumPy\n",
    "- Pandas\n",
    "- Matplotlib\n",
    "- Seaborn\n",
    "- Scikit-learn"
   ]
  },
  {
   "cell_type": "markdown",
   "id": "657b6c84",
   "metadata": {},
   "source": [
    "## Data Science Tools Table\n",
    "\n",
    "| Tool          | Description                               |\n",
    "|---------------|-------------------------------------------|\n",
    "| Jupyter       | Interactive computing environment         |\n",
    "| TensorFlow    | Open-source machine learning framework    |\n",
    "| PyTorch       | Deep learning library                     |\n",
    "| Tableau       | Data visualization tool                   |"
   ]
  },
  {
   "cell_type": "markdown",
   "id": "08e4ba5f",
   "metadata": {},
   "source": [
    "## Arithmetic Expression Examples\n",
    "In this section, we will explore examples of arithmetic expressions"
   ]
  },
  {
   "cell_type": "code",
   "execution_count": 3,
   "id": "6295ef40",
   "metadata": {},
   "outputs": [
    {
     "name": "stdout",
     "output_type": "stream",
     "text": [
      "multiplication: 50\n",
      "addition: 15\n"
     ]
    }
   ],
   "source": [
    "#code for multiplying and adding of two numbers\n",
    "a=10 #assigning a to 10\n",
    "b=5  #assigning b to 5\n",
    "print(\"multiplication:\",a*b)#multiplying\n",
    "print(\"addition:\",a+b)#addition"
   ]
  },
  {
   "cell_type": "code",
   "execution_count": 7,
   "id": "dc04197d",
   "metadata": {},
   "outputs": [
    {
     "name": "stdout",
     "output_type": "stream",
     "text": [
      "Enter the minutes:50\n",
      "the minutes are converted into hours the output is:0.8\n"
     ]
    }
   ],
   "source": [
    "#code for converting minutes to hours\n",
    "minutes=int(input(\"Enter the minutes:\"))\n",
    "print(\"the minutes are converted into hours the output is:%.1f\"%(minutes/60))"
   ]
  },
  {
   "cell_type": "markdown",
   "id": "1cd19b28",
   "metadata": {},
   "source": [
    "Objectives:\n",
    "\n",
    "- Understand the basics of data science concepts and tools.\n",
    "- Practice writing and executing Python code for simple calculations and data manipulations.\n",
    "- Gain experience with data visualization techniques to present insights effectively.\n",
    "- Develop critical thinking skills to analyze data and solve problems.\n",
    "- Foster a strong foundation for further exploration in the data science field."
   ]
  },
  {
   "cell_type": "markdown",
   "id": "9fe1fbbc",
   "metadata": {},
   "source": [
    "## Author name\n",
    "Yaddalapalli Charan Kumar Naidu"
   ]
  },
  {
   "cell_type": "code",
   "execution_count": null,
   "id": "15d5ff8d",
   "metadata": {},
   "outputs": [],
   "source": []
  }
 ],
 "metadata": {
  "kernelspec": {
   "display_name": "Python 3 (ipykernel)",
   "language": "python",
   "name": "python3"
  },
  "language_info": {
   "codemirror_mode": {
    "name": "ipython",
    "version": 3
   },
   "file_extension": ".py",
   "mimetype": "text/x-python",
   "name": "python",
   "nbconvert_exporter": "python",
   "pygments_lexer": "ipython3",
   "version": "3.11.5"
  }
 },
 "nbformat": 4,
 "nbformat_minor": 5
}
